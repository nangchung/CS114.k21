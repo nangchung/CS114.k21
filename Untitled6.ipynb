{
  "nbformat": 4,
  "nbformat_minor": 0,
  "metadata": {
    "colab": {
      "name": "Untitled6.ipynb",
      "provenance": [],
      "authorship_tag": "ABX9TyMsS62hm085CKy2FBREVnq4",
      "include_colab_link": true
    },
    "kernelspec": {
      "name": "python3",
      "display_name": "Python 3"
    }
  },
  "cells": [
    {
      "cell_type": "markdown",
      "metadata": {
        "id": "view-in-github",
        "colab_type": "text"
      },
      "source": [
        "<a href=\"https://colab.research.google.com/github/nangchung/CS114.k21/blob/master/Untitled6.ipynb\" target=\"_parent\"><img src=\"https://colab.research.google.com/assets/colab-badge.svg\" alt=\"Open In Colab\"/></a>"
      ]
    },
    {
      "cell_type": "code",
      "metadata": {
        "id": "_RizbpXz_jWt",
        "colab_type": "code",
        "colab": {
          "base_uri": "https://localhost:8080/",
          "height": 50
        },
        "outputId": "ddbc65d6-7d10-463d-96fe-729ff5813b52"
      },
      "source": [
        "PSI = float(input())\n",
        "kg = float((PSI) * 0.453592)\n",
        "cm2 = 2.54*2.54\n",
        "dv = round(kg/cm2,4)\n",
        "print(dv)\n"
      ],
      "execution_count": 13,
      "outputs": [
        {
          "output_type": "stream",
          "text": [
            "2018\n",
            "141.8793\n"
          ],
          "name": "stdout"
        }
      ]
    }
  ]
}