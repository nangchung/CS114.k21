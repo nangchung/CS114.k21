{
  "nbformat": 4,
  "nbformat_minor": 0,
  "metadata": {
    "colab": {
      "name": "18520536.ipynb",
      "provenance": [],
      "collapsed_sections": [],
      "mount_file_id": "1_cZVKQVDAzlqK13eb7bHBf1Yla_PZS03",
      "authorship_tag": "ABX9TyNllSbLvjQXFNgHGBLZ2jPT",
      "include_colab_link": true
    },
    "kernelspec": {
      "name": "python3",
      "display_name": "Python 3"
    }
  },
  "cells": [
    {
      "cell_type": "markdown",
      "metadata": {
        "id": "view-in-github",
        "colab_type": "text"
      },
      "source": [
        "<a href=\"https://colab.research.google.com/github/nangchung/CS114.k21/blob/master/18520536.ipynb\" target=\"_parent\"><img src=\"https://colab.research.google.com/assets/colab-badge.svg\" alt=\"Open In Colab\"/></a>"
      ]
    },
    {
      "cell_type": "code",
      "metadata": {
        "id": "D-9pYCmfxKM7",
        "colab_type": "code",
        "colab": {
          "base_uri": "https://localhost:8080/",
          "height": 1000
        },
        "outputId": "72843c0d-ea1e-46bb-93ba-67490e947e68"
      },
      "source": [
        "import re\n",
        "\n",
        "import urllib.request\n",
        "\n",
        "\n",
        "from bs4 import BeautifulSoup\n",
        "\n",
        "\n",
        "url = 'https://tinhte.vn/'\n",
        "\n",
        "tf = urllib.request.urlopen(url)\n",
        "\n",
        "soup = BeautifulSoup(tf, 'html.parser')\n",
        "\n",
        "\n",
        "new_feeds = soup.find('div', class_='jsx-4021140204 row').find_all('h3')\n",
        "#new_times = soup.find('div', class_='jsx-4021140204 row').find_all('span',class_='since')\n",
        "#for new_time in new_times:\n",
        "  #t = new_time.get_text('')\n",
        "  #print(t)\n",
        "for new_feed in new_feeds:\n",
        "  #hrefs = new_feed.get('href')\n",
        "  title = new_feed.get_text('><')\n",
        "  print('Title: '+ title)\n",
        "  #print(hrefs)\n"
      ],
      "execution_count": 186,
      "outputs": [
        {
          "output_type": "stream",
          "text": [
            "Title: Review Pixel 4a: con smartphone tầm trung đáng mua, chỉ là hơi khó kiếm ở Việt Nam\n",
            "Title: Trên tay Realme 7 Pro: Thiết kế tương tự, hiệu năng nhỉnh hơn người anh em Realme 7\n",
            "Title: Trên tay áo mưa một người GIVI G-Coat: thiết kế đẹp, chất liệu nhẹ\n",
            "Title: Google đã thu thập những dữ liệu gì của anh em, đây là cách để anh em xem nó\n",
            "Title: Trên tay pin dự phòng AUKEY 10000mAh Wireless Charging:  nhẹ, đa năng, thiết kế giá đỡ sạc không dây\n",
            "Title: Trải nghiệm App đặt bảo trì máy lạnh chuyên nghiệp từ Daikin\n",
            "Title: Đại dịch đến tối 22/9. Việt Nam mở lại đường bay thương mại tới Thái Lan.\n",
            "Title: Không cho bên thứ 3 làm mặt đồng hồ, có phải Apple quá độc đoán?\n",
            "Title: Thủ thuật thay đổi icon ứng dụng iOS 14 theo ý muốn - Tự thiết kế màn hình chính iPhone\n",
            "Title: Trải nghiệm App đặt bảo trì máy lạnh chuyên nghiệp từ Daikin\n",
            "Title: [Game Xe Tinh tế]#25: Tặng ví sen 3 của Khắc Tên\n",
            "Title: BlackBerry Key2 chính hãng giảm giá còn 10 triệu.\n",
            "Title: Trải nghiệm giao diện EMUI 11: bản cập nhật Android mới nhất của Huawei\n",
            "Title: Mazda CX-8 Deluxe bổ sung trang bị, giá vẫn 999 triệu đồng\n",
            "Title: Cửa hàng tiện lợi ở Nhật dùng công nghệ thực tế ảo để điều khiển robot xếp hàng lên kệ\n",
            "Title: [Video] Xây dựng cánh đồng tuabin gió - Từ đào móng công trình đến lắp ráp bộ phận tuabin\n",
            "Title: Nga nói Sao Kim là của Nga\n",
            "Title: Huawei Watch Fit: đẹp và lạ, hiện thông báo ngon, đo nhịp tim, oxy trong máu..., giá hơn 3 triệu\n",
            "Title: Tổng hợp deal khuyến mãi 22/09\n",
            "Title: #IPHONE.CPO. IPHONE TBH\n",
            "Title: Trên tay áo mưa một người GIVI G-Coat: thiết kế đẹp, chất liệu nhẹ\n",
            "Title: Trên tay pin dự phòng AUKEY 10000mAh Wireless Charging:  nhẹ, đa năng, thiết kế giá đỡ sạc không dây\n",
            "Title: FB trên Android đã cho phép kích hoạt Chế độ tối nhé các bạn\n",
            "Title: Google đã thu thập những dữ liệu gì của anh em, đây là cách để anh em xem nó\n",
            "Title: Trải nghiệm nồi đôi đa năng SHARP Twin Cooker: Gọn, tiện và phù hợp cho ai ngại nấu ăn\n",
            "Title: Mở hộp Vsmart Aris: đây mới là chiếc máy mà người dùng mong chờ từ VinSmart\n",
            "Title: [Video] AGM-114 Hellfire - \"ánh mắt\" chết chóc\n",
            "Title: Tại sao khi đậu thì đèn chiếc xe Mercedes này lại chột một bên ta?\n",
            "Title: Cách kết nối tai nghe AirPods với máy tính chạy Windows\n",
            "Title: Lại nói về Galaxy Z Fold2, chiếc điện thoại mình sắp mua\n",
            "Title: Thủ thuật với Photos trên iOS 14: xem ảnh đúng tỷ lệ và ẩn ảnh một cách triệt để\n",
            "Title: Trên tay Samsung Galaxy A01 Core với mức giá ban đầu để sở hữu chỉ từ 590.000 đồng\n",
            "Title: Thermalright Frost Spirit 140 - chiếc tản nhiệt khí mình thích nhất ở phân khúc giá dưới 1 triệu\n",
            "Title: Hướng dẫn cài đặt và sử dụng Barrier - ứng dụng cho phép dùng 1 bàn phím + chuột cho 2 PC + màn hình\n",
            "Title: Suzuki giới thiệu mẫu xe Intruder 150: kiểu cruiser, giá bán từ 89,9 triệu đồng\n",
            "Title: 5 cách tăng tốc máy tính \"mù\" công nghệ cũng làm được\n",
            "Title: Cách đưa giao diện Facebook cũ trở lại với tiện ích mở rộng trên Chrome\n",
            "Title: Bảo mật lượng tử là gì? Vsmart Aris Pro dùng bảo mật lượng tử để làm gì\n",
            "Title: Anh em nhận được thêm gì khi mua Galaxy Z Fold2 chính hãng\n",
            "Title: Trải nghiệm nồi đôi đa năng SHARP Twin Cooker: Gọn, tiện và phù hợp cho ai ngại nấu ăn\n",
            "Title: Mở hộp Vsmart Aris: đây mới là chiếc máy mà người dùng mong chờ từ VinSmart\n",
            "Title: [Video] AGM-114 Hellfire - \"ánh mắt\" chết chóc\n",
            "Title: Tại sao khi đậu thì đèn chiếc xe Mercedes này lại chột một bên ta?\n",
            "Title: Cách kết nối tai nghe AirPods với máy tính chạy Windows\n",
            "Title: Lại nói về Galaxy Z Fold2, chiếc điện thoại mình sắp mua\n",
            "Title: Thủ thuật với Photos trên iOS 14: xem ảnh đúng tỷ lệ và ẩn ảnh một cách triệt để\n",
            "Title: Trên tay Samsung Galaxy A01 Core với mức giá ban đầu để sở hữu chỉ từ 590.000 đồng\n",
            "Title: Thermalright Frost Spirit 140 - chiếc tản nhiệt khí mình thích nhất ở phân khúc giá dưới 1 triệu\n",
            "Title: Hướng dẫn cài đặt và sử dụng Barrier - ứng dụng cho phép dùng 1 bàn phím + chuột cho 2 PC + màn hình\n",
            "Title: Suzuki giới thiệu mẫu xe Intruder 150: kiểu cruiser, giá bán từ 89,9 triệu đồng\n",
            "Title: 5 cách tăng tốc máy tính \"mù\" công nghệ cũng làm được\n",
            "Title: Cách đưa giao diện Facebook cũ trở lại với tiện ích mở rộng trên Chrome\n",
            "Title: Bảo mật lượng tử là gì? Vsmart Aris Pro dùng bảo mật lượng tử để làm gì\n",
            "Title: Anh em nhận được thêm gì khi mua Galaxy Z Fold2 chính hãng\n",
            "Title: Trải nghiệm nồi đôi đa năng SHARP Twin Cooker: Gọn, tiện và phù hợp cho ai ngại nấu ăn\n",
            "Title: Mở hộp Vsmart Aris: đây mới là chiếc máy mà người dùng mong chờ từ VinSmart\n",
            "Title: [Video] AGM-114 Hellfire - \"ánh mắt\" chết chóc\n",
            "Title: Mở hộp Vsmart Aris: đây mới là chiếc máy mà người dùng mong chờ từ VinSmart\n",
            "Title: [Video] AGM-114 Hellfire - \"ánh mắt\" chết chóc\n",
            "Title: Tại sao khi đậu thì đèn chiếc xe Mercedes này lại chột một bên ta?\n",
            "Title: Cách kết nối tai nghe AirPods với máy tính chạy Windows\n",
            "Title: Lại nói về Galaxy Z Fold2, chiếc điện thoại mình sắp mua\n",
            "Title: Thủ thuật với Photos trên iOS 14: xem ảnh đúng tỷ lệ và ẩn ảnh một cách triệt để\n",
            "Title: Trên tay Samsung Galaxy A01 Core với mức giá ban đầu để sở hữu chỉ từ 590.000 đồng\n",
            "Title: Thermalright Frost Spirit 140 - chiếc tản nhiệt khí mình thích nhất ở phân khúc giá dưới 1 triệu\n",
            "Title: Hướng dẫn cài đặt và sử dụng Barrier - ứng dụng cho phép dùng 1 bàn phím + chuột cho 2 PC + màn hình\n",
            "Title: Suzuki giới thiệu mẫu xe Intruder 150: kiểu cruiser, giá bán từ 89,9 triệu đồng\n",
            "Title: 5 cách tăng tốc máy tính \"mù\" công nghệ cũng làm được\n",
            "Title: Cách đưa giao diện Facebook cũ trở lại với tiện ích mở rộng trên Chrome\n",
            "Title: Bảo mật lượng tử là gì? Vsmart Aris Pro dùng bảo mật lượng tử để làm gì\n",
            "Title: Anh em nhận được thêm gì khi mua Galaxy Z Fold2 chính hãng\n",
            "Title: Trải nghiệm nồi đôi đa năng SHARP Twin Cooker: Gọn, tiện và phù hợp cho ai ngại nấu ăn\n",
            "Title: Mở hộp Vsmart Aris: đây mới là chiếc máy mà người dùng mong chờ từ VinSmart\n",
            "Title: [Video] AGM-114 Hellfire - \"ánh mắt\" chết chóc\n",
            "Title: Tại sao khi đậu thì đèn chiếc xe Mercedes này lại chột một bên ta?\n",
            "Title: Cách kết nối tai nghe AirPods với máy tính chạy Windows\n",
            "Title: Lại nói về Galaxy Z Fold2, chiếc điện thoại mình sắp mua\n",
            "Title: Thủ thuật với Photos trên iOS 14: xem ảnh đúng tỷ lệ và ẩn ảnh một cách triệt để\n",
            "Title: Trên tay Samsung Galaxy A01 Core với mức giá ban đầu để sở hữu chỉ từ 590.000 đồng\n",
            "Title: Thermalright Frost Spirit 140 - chiếc tản nhiệt khí mình thích nhất ở phân khúc giá dưới 1 triệu\n",
            "Title: Hướng dẫn cài đặt và sử dụng Barrier - ứng dụng cho phép dùng 1 bàn phím + chuột cho 2 PC + màn hình\n",
            "Title: Suzuki giới thiệu mẫu xe Intruder 150: kiểu cruiser, giá bán từ 89,9 triệu đồng\n",
            "Title: 5 cách tăng tốc máy tính \"mù\" công nghệ cũng làm được\n",
            "Title: Cách đưa giao diện Facebook cũ trở lại với tiện ích mở rộng trên Chrome\n",
            "Title: Bảo mật lượng tử là gì? Vsmart Aris Pro dùng bảo mật lượng tử để làm gì\n",
            "Title: Anh em nhận được thêm gì khi mua Galaxy Z Fold2 chính hãng\n",
            "Title: Trải nghiệm nồi đôi đa năng SHARP Twin Cooker: Gọn, tiện và phù hợp cho ai ngại nấu ăn\n",
            "Title: Mở hộp Vsmart Aris: đây mới là chiếc máy mà người dùng mong chờ từ VinSmart\n",
            "Title: [Video] AGM-114 Hellfire - \"ánh mắt\" chết chóc\n",
            "Title: Những anh em tích cực nhất\n",
            "Title: Thảo luận trong ngày\n",
            "Title: Huawei cà khịa mạnh Samsung và Apple trong lễ ra mắt Mate 30 | 30 Pro\n",
            "Title: Mời các bạn dùng thử bộ gõ OpenKey cho Windows\n",
            "Title: Samsung tung quảng cáo mới, nhắc người dùng Galaxy Fold hãy “nâng như nâng trứng”\n"
          ],
          "name": "stdout"
        }
      ]
    },
    {
      "cell_type": "code",
      "metadata": {
        "id": "RZR4_pxQzD2Q",
        "colab_type": "code",
        "colab": {}
      },
      "source": [
        ""
      ],
      "execution_count": null,
      "outputs": []
    }
  ]
}