{
  "nbformat": 4,
  "nbformat_minor": 0,
  "metadata": {
    "colab": {
      "name": "Untitled3.ipynb",
      "provenance": [],
      "authorship_tag": "ABX9TyOLTJEV8bib2H84KopHHGGJ",
      "include_colab_link": true
    },
    "kernelspec": {
      "name": "python3",
      "display_name": "Python 3"
    }
  },
  "cells": [
    {
      "cell_type": "markdown",
      "metadata": {
        "id": "view-in-github",
        "colab_type": "text"
      },
      "source": [
        "<a href=\"https://colab.research.google.com/github/nangchung/CS114.k21/blob/master/Untitled3.ipynb\" target=\"_parent\"><img src=\"https://colab.research.google.com/assets/colab-badge.svg\" alt=\"Open In Colab\"/></a>"
      ]
    },
    {
      "cell_type": "code",
      "metadata": {
        "id": "cgqq2BY9WmFq",
        "colab_type": "code",
        "colab": {}
      },
      "source": [
        "def Run(A,t):\n",
        "  t.sort(reverse= true)\n",
        "  for i in t:\n",
        "    temp = A.index(min(A, key = sum))\n",
        "    A[temp].append(i)\n",
        "    print(A)\n",
        "\n",
        "    m = int(input('nhap so luong may: '))\n",
        "\n",
        "    n = int(input('nhap so luong cong viec: '))\n",
        "    A =[[] for j in range(m)]\n",
        "    temp = input()\n",
        "    t = temp.split()\n",
        "    if(len(t)==n):\n",
        "      t=[int(j) for j in t]\n",
        "      if m<n:\n",
        "        Run(A,t)\n",
        "      else:\n",
        "        print('moi may mot cong viec khong phai chia ')\n",
        "    else:\n",
        "      print('loi gi do o cho nhap ')\n",
        "\n",
        "      "
      ],
      "execution_count": 0,
      "outputs": []
    }
  ]
}