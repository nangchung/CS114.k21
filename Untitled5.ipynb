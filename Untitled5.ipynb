{
  "nbformat": 4,
  "nbformat_minor": 0,
  "metadata": {
    "colab": {
      "name": "Untitled5.ipynb",
      "provenance": [],
      "authorship_tag": "ABX9TyNMoxkXBxjrtdPXi/eB7jY6",
      "include_colab_link": true
    },
    "kernelspec": {
      "name": "python3",
      "display_name": "Python 3"
    }
  },
  "cells": [
    {
      "cell_type": "markdown",
      "metadata": {
        "id": "view-in-github",
        "colab_type": "text"
      },
      "source": [
        "<a href=\"https://colab.research.google.com/github/nangchung/CS114.k21/blob/master/Untitled5.ipynb\" target=\"_parent\"><img src=\"https://colab.research.google.com/assets/colab-badge.svg\" alt=\"Open In Colab\"/></a>"
      ]
    },
    {
      "cell_type": "code",
      "metadata": {
        "id": "KBkHzY5u8iSj",
        "colab_type": "code",
        "colab": {
          "base_uri": "https://localhost:8080/",
          "height": 50
        },
        "outputId": "8da3130d-32f4-41b9-e9ef-854866099158"
      },
      "source": [
        "DoF = float(input())\n",
        "DoC = round(float(((DoF) - 32)/1.8),3)\n",
        "DoK = round(float((((DoF) - 32)/1.8) + 273.15),3)\n",
        "print( DoC,' ',DoK)"
      ],
      "execution_count": 13,
      "outputs": [
        {
          "output_type": "stream",
          "text": [
            "472.6\n",
            "244.778   517.928\n"
          ],
          "name": "stdout"
        }
      ]
    }
  ]
}