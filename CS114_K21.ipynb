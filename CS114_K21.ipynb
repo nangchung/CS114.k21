{
  "nbformat": 4,
  "nbformat_minor": 0,
  "metadata": {
    "colab": {
      "name": "CS114.K21.ipynb",
      "provenance": [],
      "authorship_tag": "ABX9TyMm4d3DUxmIaRTV60mSTsoj",
      "include_colab_link": true
    },
    "kernelspec": {
      "name": "python3",
      "display_name": "Python 3"
    }
  },
  "cells": [
    {
      "cell_type": "markdown",
      "metadata": {
        "id": "view-in-github",
        "colab_type": "text"
      },
      "source": [
        "<a href=\"https://colab.research.google.com/github/nangchung/CS114.k21/blob/master/CS114_K21.ipynb\" target=\"_parent\"><img src=\"https://colab.research.google.com/assets/colab-badge.svg\" alt=\"Open In Colab\"/></a>"
      ]
    },
    {
      "cell_type": "code",
      "metadata": {
        "id": "xKLSys1DDUyj",
        "colab_type": "code",
        "colab": {
          "base_uri": "https://localhost:8080/",
          "height": 34
        },
        "outputId": "7299ce4d-efe1-4ca3-99ac-96c8ab81155e"
      },
      "source": [
        "print(\"xin chao cac ban\")"
      ],
      "execution_count": 1,
      "outputs": [
        {
          "output_type": "stream",
          "text": [
            "xin chao cac ban\n"
          ],
          "name": "stdout"
        }
      ]
    }
  ]
}